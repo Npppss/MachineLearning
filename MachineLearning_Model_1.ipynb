{
  "cells": [
    {
      "cell_type": "code",
      "execution_count": null,
      "metadata": {
        "id": "BuR_RpFXIkvF"
      },
      "outputs": [],
      "source": [
        "import pandas as pd #Python Data Analysis Library\n",
        "import numpy as np #Python Scientific Library (Umumnya membantu\n",
        "#dalam urusan list)\n",
        "\n",
        "#Selective import modul-modul Scikit Learn\n",
        "#(Scikit Learn memiliki banyak modul machine learning)\n",
        "from sklearn import linear_model\n",
        "from sklearn.model_selection import train_test_split\n",
        "from sklearn.metrics import mean_squared_error"
      ]
    },
    {
      "cell_type": "code",
      "execution_count": null,
      "metadata": {
        "id": "DU0XKwdi2ON9"
      },
      "outputs": [],
      "source": [
        "from google.colab import drive\n",
        "drive.mount('/content/drive')"
      ]
    },
    {
      "cell_type": "code",
      "execution_count": null,
      "metadata": {
        "id": "90og7hJqPdE4"
      },
      "outputs": [],
      "source": [
        "!wget https://github.com/dicodingacademy/assets/releases/download/release/rockpaperscissors.zip"
      ]
    },
    {
      "cell_type": "code",
      "execution_count": null,
      "metadata": {
        "id": "nxcLpbyiIqGM"
      },
      "outputs": [],
      "source": [
        "import os                                                                         #Mengimpor modul os mengakses folder data\n",
        "import zipfile                                                                    #Mengimpor modul zipfile untuk membaca file zip\n",
        "\n",
        "local_zip = 'rockpaperscissors.zip'                                      #Mendefinisikan file zip yang akan diekstrak\n",
        "zip_ref = zipfile.ZipFile(local_zip, 'r')                                         #Mengekstrak file zip\n",
        "zip_ref.extractall('rockpaperscissors')                                                   #Menempatkan file hasil ekstrak zip\n",
        "zip_ref.close()"
      ]
    },
    {
      "cell_type": "code",
      "execution_count": null,
      "metadata": {
        "id": "EOYwpVgNI3PX"
      },
      "outputs": [],
      "source": [
        "import os                                                                         #Mengimpor modul os mengakses folder data\n",
        "folder_scissors = os.path.join('rockpaperscissors/rockpaperscissors/scissors')                #Mendefinisikan Folder Training untuk gambar Gunting\n",
        "folder_rock= os.path.join('rockpaperscissors/rockpaperscissors/rock')                        #Mendefinisikan Folder Training untuk gambar Batu\n",
        "folder_paper = os.path.join('rockpaperscissors/rockpaperscissors/paper')                    #Mendefinisikan Folder Training untuk gambar Kertas\n",
        "\n",
        "print('Total gambar scissors:', len(os.listdir(folder_scissors)))              #Menampilkan jumlah gambar di dalam folder Gunting\n",
        "print('Total gambar rock:', len(os.listdir(folder_rock)))                    #Menampilkan jumlah gambar di dalam folder Batu\n",
        "print('Total gambar kertas:', len(os.listdir(folder_paper)))                #Menampilkan jumlah gambar di dalam folder Kertas\n",
        "\n",
        "print(\"Nama file gambar:\")\n",
        "file_scissor = os.listdir(folder_scissors)                                           #Mendaftar file di dalam folder gunting\n",
        "print(\"Scissor:\",file_scissor[:5])                                                #Menampilkan nama 5 file pertama di dalam folder gunting\n",
        "\n",
        "file_rock = os.listdir(folder_rock)                                                 #Mendaftar file di dalam folder batu\n",
        "print(\"Rock:\",file_rock[:5])                                                      #Menampilkan nama 5 file pertama di dalam folder batu\n",
        "\n",
        "file_paper = os.listdir(folder_paper)                                             #Mendaftar file di dalam folder kertas\n",
        "print(\"Paper:\",file_paper[:5])"
      ]
    },
    {
      "cell_type": "code",
      "execution_count": null,
      "metadata": {
        "id": "rW4_Vh9FI3IN"
      },
      "outputs": [],
      "source": [
        "%matplotlib inline\n",
        "\n",
        "import matplotlib.pyplot as plt                                                     #Mengimpor modul matplotlib\n",
        "import matplotlib.image as mpimg\n",
        "\n",
        "nrows = 3                                                                           #Jumlah baris tampilan gambar\n",
        "ncols = 4                                                                           #Jumlah baris tampilan gambar\n",
        "\n",
        "pic_index = 0                                                                        #Index awal untuk iterasi gambar\n",
        "\n",
        "fig = plt.gcf()\n",
        "fig.set_size_inches(ncols * 4, nrows * 3)                                           #Mengatur gambar output matplotlib, dan ukurannya agar menjadi 4*6 gambar\n",
        "\n",
        "pic_index += 4                                                                      #Index tambah bertambah 4 setiap baris\n",
        "gambar_gunting  = [os.path.join(folder_scissors, fname)                              #Menampilkan gambar gunting\n",
        "                      for fname in file_scissor[pic_index-4:pic_index]]\n",
        "gambar_batu     = [os.path.join(folder_rock, fname)                               #Menampilkan gambar batu\n",
        "                      for fname in file_rock[pic_index-4:pic_index]]\n",
        "gambar_kertas   = [os.path.join(folder_paper, fname)                             #Menampilkan gambar kertas\n",
        "                      for fname in file_paper[pic_index-4:pic_index]]\n",
        "\n",
        "for i, img_path in enumerate(gambar_gunting+gambar_batu+gambar_kertas):\n",
        "  sp = plt.subplot(nrows, ncols, i + 1)                                             #Mengatur subplot; indeks subplot dimulai dari 1\n",
        "  sp.axis('Off')                                                                    #Tidak menampilkan Gridlines\n",
        "\n",
        "  img = mpimg.imread(img_path)\n",
        "  plt.imshow(img)\n",
        "\n",
        "plt.show()"
      ]
    },
    {
      "cell_type": "code",
      "execution_count": null,
      "metadata": {
        "id": "DQWZKqdbJKPY"
      },
      "outputs": [],
      "source": [
        "import tensorflow as tf                                                           #Mengimpor modul tensorflow\n",
        "import keras.preprocessing                                                        #Mengimpor modul keras\n",
        "from keras.preprocessing import image                                             #Mengimpor keras_preprocessing untuk gambar\n",
        "from keras.preprocessing.image import ImageDataGenerator"
      ]
    },
    {
      "cell_type": "code",
      "execution_count": null,
      "metadata": {
        "id": "DIHLJ2xVJOrA"
      },
      "outputs": [],
      "source": [
        "img_dir = \"rockpaperscissors/novan/rps-cv-images/\"\n",
        "training_datagen = ImageDataGenerator(\n",
        "      rescale = 1./255,\n",
        "#AUGMENTASI\n",
        "\t    rotation_range=20,                                                                         #Menerapkan skenario rotasi gambar hingga 40 derajat\n",
        "      width_shift_range=0.3,                                                                     #Menerapkan skenario pelebaran gambar hingga hingga sebanyak 0.2 dari ukuran asli\n",
        "      height_shift_range=0.3,                                                                    #Menerapkan skenario peninggian gambar hingga hingg sebanyak 0.2 dari ukuran asli\n",
        "      shear_range=0.4,                                                                           #Menerapkan skenario pemangkasan gambar gambar hingga sebanyak 0.2 dari ukuran asli\n",
        "      zoom_range=0.3,                                                                            #Menerapkan skenario zoom gambar hingga sebesar 0.2\n",
        "      horizontal_flip=True,                                                                      #Menerapkan skenario putar balik gambar secara horizontal\n",
        "      fill_mode='nearest',\n",
        "#MEMECAH DATA MENJADI DATA TRAINING DAN DATA VALIDASI\n",
        "      validation_split=0.4\n",
        "      )"
      ]
    },
    {
      "cell_type": "code",
      "execution_count": null,
      "metadata": {
        "id": "gyGRlCfmJXRh"
      },
      "outputs": [],
      "source": [
        "train_generator = training_datagen.flow_from_directory(\n",
        "\timg_dir,\n",
        "\ttarget_size=(150,150),\n",
        "  batch_size=32,\n",
        "\tclass_mode='categorical',\n",
        "  shuffle=True,\n",
        "  subset='training'\n",
        "  )"
      ]
    },
    {
      "cell_type": "code",
      "execution_count": null,
      "metadata": {
        "id": "0UvGsmInKKWq"
      },
      "outputs": [],
      "source": [
        "validation_generator = training_datagen.flow_from_directory(                                 #Generator data validasi\n",
        "\timg_dir,                                                                                 #Folder target untuk digenerasi\n",
        "\ttarget_size=(150,150),\n",
        "  batch_size=32,                                                                                          #Mengubah resolusi seluruh gambar menjadi 150x150 piksel\n",
        "\tclass_mode='categorical',                                                                  #Kelas data kategori untuk klasifikasi multivariabel\n",
        "  shuffle=True,\n",
        "  subset='validation'                                                                        #Untuk data validasi\n",
        "  )"
      ]
    },
    {
      "cell_type": "code",
      "execution_count": null,
      "metadata": {
        "id": "3IsHTgE6KTQf"
      },
      "outputs": [],
      "source": [
        "model = tf.keras.models.Sequential([\n",
        "\n",
        "    tf.keras.layers.Conv2D(16, (3,3), activation='relu', input_shape=(150, 150, 3)),\n",
        "    tf.keras.layers.MaxPooling2D(2, 2),\n",
        "\n",
        "    tf.keras.layers.Conv2D(32, (3,3), activation='relu'),\n",
        "    tf.keras.layers.MaxPooling2D(2,2),\n",
        "\n",
        "    tf.keras.layers.Conv2D(32, (3,3), activation='relu'),\n",
        "    tf.keras.layers.MaxPooling2D(2,2),\n",
        "\n",
        "    tf.keras.layers.Flatten(),\n",
        "    tf.keras.layers.Dropout(0.5),\n",
        "\n",
        "    tf.keras.layers.Dense(128, activation='relu'),\n",
        "\n",
        "    tf.keras.layers.Dense(512, activation='relu'),\n",
        "\n",
        "    tf.keras.layers.Dense(3, activation='softmax')\n",
        "])\n",
        "\n",
        "model.summary()\n",
        "Model: \"sequential_2\""
      ]
    },
    {
      "cell_type": "code",
      "execution_count": null,
      "metadata": {
        "id": "wJ-DGW86Kbqu"
      },
      "outputs": [],
      "source": [
        "model.compile(loss = 'categorical_crossentropy',\n",
        "              optimizer='adam',\n",
        "              metrics=['accuracy'])"
      ]
    },
    {
      "cell_type": "code",
      "execution_count": null,
      "metadata": {
        "id": "HTGnaZpbKdor"
      },
      "outputs": [],
      "source": [
        "# Latih model\n",
        "history = model.fit(\n",
        "    train_generator,\n",
        "    steps_per_epoch=len(train_generator),\n",
        "    epochs=4,  # Sesuaikan jumlah epoch sesuai kebutuhan\n",
        "    validation_data=validation_generator,\n",
        "    validation_steps=len(validation_generator)\n",
        ")\n",
        "\n"
      ]
    },
    {
      "cell_type": "code",
      "execution_count": null,
      "metadata": {
        "id": "4qhdH-BuOObX"
      },
      "outputs": [],
      "source": [
        "# Evaluasi model\n",
        "accuracy = model.evaluate(validation_generator)\n",
        "print(f\"Validation Accuracy: {accuracy[1] * 100:.2f}%\")"
      ]
    },
    {
      "cell_type": "code",
      "execution_count": null,
      "metadata": {
        "id": "yMZiA1ZXLJxu"
      },
      "outputs": [],
      "source": [
        "import numpy as np\n",
        "from google.colab import files\n",
        "from keras.preprocessing import image\n",
        "\n",
        "uploaded = files.upload()\n",
        "\n",
        "for fn in uploaded.keys():\n",
        "\n",
        "  path = fn\n",
        "  img = image.load_img(path, target_size=(150, 150))\n",
        "  imgplot = plt.imshow(img)\n",
        "  x = image.img_to_array(img)\n",
        "  x = np.expand_dims(x, axis=0)\n",
        "\n",
        "  images = np.vstack([x])\n",
        "  classes = model.predict(images, batch_size=10)\n",
        "  print(fn)\n",
        "  if classes[0][0]==1:\n",
        "    print('KERTAS')\n",
        "  elif classes[0][1]==1:\n",
        "    print('BATU')\n",
        "  elif classes[0][2]==1:\n",
        "    print('GUNTING')\n",
        "  else:\n",
        "    print('Ga tau')"
      ]
    }
  ],
  "metadata": {
    "colab": {
      "provenance": [],
      "authorship_tag": "ABX9TyPxC/KDLIvIhnBlFV3+tJXh"
    },
    "kernelspec": {
      "display_name": "Python 3",
      "name": "python3"
    },
    "language_info": {
      "name": "python"
    }
  },
  "nbformat": 4,
  "nbformat_minor": 0
}